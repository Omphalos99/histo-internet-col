{
 "cells": [
  {
   "cell_type": "code",
   "execution_count": null,
   "metadata": {},
   "outputs": [],
   "source": [
    "# Importar los módulos necesarios\n",
    "import csv\n",
    "import os\n",
    "import re"
   ]
  },
  {
   "cell_type": "code",
   "execution_count": null,
   "metadata": {},
   "outputs": [],
   "source": [
    "# Carpeta donde están las entrevistas\n",
    "folder_path = 'E:\\\\Histo_Internet\\\\Conteo_Entrevistas\\\\TXT'"
   ]
  },
  {
   "cell_type": "code",
   "execution_count": null,
   "metadata": {},
   "outputs": [],
   "source": [
    "# Contar instancias de los conceptos\n",
    "def count_concepts_in_txt(txt_file):\n",
    "    count_dict = {}\n",
    "    with open(txt_file, 'r', encoding='utf-8') as file:\n",
    "        for line in file:\n",
    "            concepts_list = re.findall(r\"\\*(.*?)\\*\", line)\n",
    "            for concept in concepts_list:\n",
    "                count_dict[concept] = count_dict.get(concept, 0) + 1\n",
    "    return count_dict\n",
    "# Revisar si el archivo CSV existe\n",
    "csv_filename = 'conteo_por_archivo.csv'\n",
    "file_exists = os.path.exists(csv_filename)\n",
    "\n",
    "# Escribir los datos al archivo CSV\n",
    "with open(csv_filename, 'a', newline='') as csvfile:\n",
    "    fieldnames = ['file', 'concept', 'count']\n",
    "    writer = csv.DictWriter(csvfile, fieldnames=fieldnames)\n",
    "\n",
    "    # Escribir header solo si el archivo no existe\n",
    "    if not file_exists:\n",
    "        writer.writeheader()\n",
    "\n",
    "    # Iterar por todos los archivos TXT en la carpeta\n",
    "    for filename in os.listdir(folder_path):\n",
    "        if filename.endswith('.txt'):\n",
    "            txt_file = os.path.join(folder_path, filename)\n",
    "            concept_counts = count_concepts_in_txt(txt_file)\n",
    "            # Escribir los datos\n",
    "            for concept, count in concept_counts.items():\n",
    "                writer.writerow({'file': filename, 'concept': concept, 'count': count})"
   ]
  }
 ],
 "metadata": {
  "language_info": {
   "name": "python"
  }
 },
 "nbformat": 4,
 "nbformat_minor": 2
}
