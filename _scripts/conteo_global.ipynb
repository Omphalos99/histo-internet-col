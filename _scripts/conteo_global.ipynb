{
 "cells": [
  {
   "cell_type": "code",
   "execution_count": null,
   "metadata": {},
   "outputs": [],
   "source": [
    "# Importar módulos necesarios\n",
    "import csv\n",
    "import os\n",
    "import re"
   ]
  },
  {
   "cell_type": "code",
   "execution_count": null,
   "metadata": {},
   "outputs": [],
   "source": [
    "# Carpeta donde están las entrevistas\n",
    "folder_path = 'E:\\\\Histo_Internet\\\\Conteo_Entrevistas\\\\TXT'"
   ]
  },
  {
   "cell_type": "code",
   "execution_count": null,
   "metadata": {},
   "outputs": [],
   "source": [
    "# Contar instancias de concepto en archivos.txt\n",
    "def contar_conceptos_en_txt(txt_file):\n",
    "    conteo = {}\n",
    "    with open(txt_file, 'r', encoding='utf-8') as file:\n",
    "        text = file.read()\n",
    "        lista = re.findall(r\"\\*(.*?)\\*\", text)\n",
    "    for concept in lista:\n",
    "        conteo[concept] = conteo.get(concept, 0) + 1\n",
    "    return conteo\n",
    "# Revisar si existe el csv\n",
    "csv_filename = 'conteo global.csv'\n",
    "file_exists = os.path.exists(csv_filename)\n",
    "\n",
    "# Leer datos del csv si existe\n",
    "concept_count = {}\n",
    "if file_exists:\n",
    "    with open(csv_filename, 'r', newline='', encoding='utf-8') as csvfile:\n",
    "        reader = csv.DictReader(csvfile)\n",
    "        for row in reader:\n",
    "            concept_count[row['concept']] = concept_count.get(row['concept'], 0) + int(row['count'])\n",
    "\n",
    "# Escribir datos al csv\n",
    "with open(csv_filename, 'w', newline='', encoding='utf-8') as csvfile:\n",
    "    fieldnames = ['concept', 'count']\n",
    "    writer = csv.DictWriter(csvfile, fieldnames=fieldnames)\n",
    "\n",
    "    # Escribir header\n",
    "    writer.writeheader()\n",
    "\n",
    "    # Iterar por todos los txt en la carpeta\n",
    "    for filename in os.listdir(folder_path):\n",
    "        if filename.endswith('.txt') and not filename.startswith('~$'):\n",
    "            txt_file = os.path.join(folder_path, filename)\n",
    "            conteo = contar_conceptos_en_txt(txt_file)\n",
    "            # Actualizar conteo global\n",
    "            for concept, count in conteo.items():\n",
    "                concept_count[concept] = concept_count.get(concept, 0) + count\n",
    "\n",
    "    # Escribir conteo final al CSV\n",
    "    for concept, count in concept_count.items():\n",
    "        writer.writerow({'concept': concept, 'count': count})\n"
   ]
  }
 ],
 "metadata": {
  "language_info": {
   "name": "python"
  }
 },
 "nbformat": 4,
 "nbformat_minor": 2
}
